{
 "cells": [
  {
   "cell_type": "markdown",
   "metadata": {},
   "source": [
    "## 初期設定"
   ]
  },
  {
   "cell_type": "code",
   "execution_count": 1,
   "metadata": {},
   "outputs": [],
   "source": [
    "from neo4j_test import HelloWorldExample, with_neo4j_connection\n",
    "\n",
    "# デコレータを使用した関数の定義\n",
    "@with_neo4j_connection\n",
    "def execute_query(greeter, query):\n",
    "    greeter.query_execute(query)\n",
    "\n",
    "@with_neo4j_connection\n",
    "def clear_database(greeter):\n",
    "    greeter.clear_db()\n",
    "\n",
    "@with_neo4j_connection\n",
    "def execute_query_and_return_string(greeter, query):\n",
    "    return greeter.execute_query_and_return_string(query)\n",
    "\n",
    "clear_database()"
   ]
  },
  {
   "cell_type": "markdown",
   "metadata": {},
   "source": [
    "要件：\n",
    "- シェイクスピアという作家がいる\n",
    "- ジュリウス・カエサルという劇がある\n",
    "- シェイクスピアがジュリウス・カエサルを書いた\n",
    "- テンペストという劇がある\n",
    "- シェイクスピアがテンペストを書いた\n",
    "- RSCという会社がある\n",
    "- ジュリウス・カエサルのプロダクションがある\n",
    "- RSCがジュリウス・カエサルのプロダクションを製作\n",
    "- ジュリウス・カエサルのプロダクションがジュリウス・カエサルの劇\n",
    "- 2012年7月29日にジュリウス・カエサルのパフォーマンスがあった\n",
    "- ジュリウス・カエサルのパフォーマンスがジュリウス・カエサルのプロダクションに関連\n",
    "- テンペストのプロダクションがある\n",
    "- RSCがテンペストのプロダクションを製作\n",
    "- テンペストのプロダクションがテンペストの劇\n",
    "- 2006年11月21日にテンペストのパフォーマンスがあった\n",
    "- テンペストのパフォーマンスがテンペストのプロダクションに関連\n",
    "- 2012年7月30日にジュリウス・カエサルのパフォーマンスがあった\n",
    "- ジュリウス・カエサルのパフォーマンスがジュリウス・カエサルのプロダクションに関連\n",
    "- Billyというユーザーがいる\n",
    "- レビューがある\n",
    "- Billyがレビューを書いた\n",
    "- レビューがジュリウス・カエサルのパフォーマンスに関連\n",
    "- Theatre Royalという場所がある\n",
    "- ジュリウス・カエサルのパフォーマンスがTheatre Royalで行われた\n",
    "- テンペストのパフォーマンスがTheatre Royalで行われた\n",
    "- ジュリウス・カエサルのパフォーマンスがTheatre Royalで行われた\n",
    "- Grey Streetという街がある\n",
    "- シェイクスピアがStratfordで生まれた"
   ]
  },
  {
   "cell_type": "markdown",
   "metadata": {},
   "source": [
    "### SQLで書いたらこうなります"
   ]
  },
  {
   "cell_type": "markdown",
   "metadata": {},
   "source": [
    "DDL\n",
    "```\n",
    "CREATE TABLE Authors (\n",
    "    id INT PRIMARY KEY AUTO_INCREMENT,\n",
    "    firstname VARCHAR(255),\n",
    "    lastname VARCHAR(255)\n",
    ");\n",
    "\n",
    "CREATE TABLE Plays (\n",
    "    id INT PRIMARY KEY AUTO_INCREMENT,\n",
    "    title VARCHAR(255)\n",
    ");\n",
    "\n",
    "CREATE TABLE Companies (\n",
    "    id INT PRIMARY KEY AUTO_INCREMENT,\n",
    "    name VARCHAR(255)\n",
    ");\n",
    "\n",
    "CREATE TABLE Productions (\n",
    "    id INT PRIMARY KEY AUTO_INCREMENT,\n",
    "    name VARCHAR(255),\n",
    "    play_id INT,\n",
    "    FOREIGN KEY (play_id) REFERENCES Plays(id)\n",
    ");\n",
    "\n",
    "CREATE TABLE Performances (\n",
    "    id INT PRIMARY KEY AUTO_INCREMENT,\n",
    "    date DATE,\n",
    "    production_id INT,\n",
    "    FOREIGN KEY (production_id) REFERENCES Productions(id)\n",
    ");\n",
    "\n",
    "CREATE TABLE Users (\n",
    "    id INT PRIMARY KEY AUTO_INCREMENT,\n",
    "    name VARCHAR(255)\n",
    ");\n",
    "\n",
    "CREATE TABLE Reviews (\n",
    "    id INT PRIMARY KEY AUTO_INCREMENT,\n",
    "    rating INT,\n",
    "    review TEXT,\n",
    "    user_id INT,\n",
    "    performance_id INT,\n",
    "    FOREIGN KEY (user_id) REFERENCES Users(id),\n",
    "    FOREIGN KEY (performance_id) REFERENCES Performances(id)\n",
    ");\n",
    "\n",
    "CREATE TABLE Venues (\n",
    "    id INT PRIMARY KEY AUTO_INCREMENT,\n",
    "    name VARCHAR(255)\n",
    ");\n",
    "\n",
    "CREATE TABLE Streets (\n",
    "    id INT PRIMARY KEY AUTO_INCREMENT,\n",
    "    name VARCHAR(255)\n",
    ");\n",
    "\n",
    "CREATE TABLE Birthplaces (\n",
    "    id INT PRIMARY KEY AUTO_INCREMENT,\n",
    "    author_id INT,\n",
    "    street_id INT,\n",
    "    FOREIGN KEY (author_id) REFERENCES Authors(id),\n",
    "    FOREIGN KEY (street_id) REFERENCES Streets(id)\n",
    ");\n",
    "\n",
    "```"
   ]
  },
  {
   "cell_type": "markdown",
   "metadata": {},
   "source": [
    "```\n",
    "DML\n",
    "-- Authorsテーブルにシェイクスピアを挿入\n",
    "INSERT INTO Authors (firstname, lastname) VALUES ('William', 'Shakespeare');\n",
    "\n",
    "-- Playsテーブルにジュリウス・カエサルとテンペストを挿入\n",
    "INSERT INTO Plays (title) VALUES ('Julius Caesar'), ('The Tempest');\n",
    "\n",
    "-- CompaniesテーブルにRSCを挿入\n",
    "INSERT INTO Companies (name) VALUES ('RSC');\n",
    "\n",
    "-- Productionsテーブルにジュリウス・カエサルとテンペストのプロダクションを挿入\n",
    "INSERT INTO Productions (name, play_id) VALUES ('Julius Caesar', 1), ('The Tempest', 2);\n",
    "\n",
    "-- Performancesテーブルにパフォーマンスを挿入\n",
    "INSERT INTO Performances (date, production_id) VALUES ('2012-07-29', 1), ('2006-11-21', 2), ('2012-07-30', 1);\n",
    "\n",
    "-- UsersテーブルにBillyを挿入\n",
    "INSERT INTO Users (name) VALUES ('Billy');\n",
    "\n",
    "-- Reviewsテーブルにレビューを挿入\n",
    "INSERT INTO Reviews (rating, review, user_id, performance_id) VALUES (5, 'This was awesome!', 1, 1);\n",
    "\n",
    "-- VenuesテーブルにTheatre Royalを挿入\n",
    "INSERT INTO Venues (name) VALUES ('Theatre Royal');\n",
    "\n",
    "-- StreetsテーブルにGrey Streetを挿入\n",
    "INSERT INTO Streets (name) VALUES ('Grey Street');\n",
    "\n",
    "-- Birthplacesテーブルにシェイクスピアの誕生地を挿入\n",
    "INSERT INTO Birthplaces (author_id, street_id) VALUES (1, 1);\n",
    "```\n"
   ]
  },
  {
   "cell_type": "markdown",
   "metadata": {},
   "source": [
    "### DDL　with Cipher"
   ]
  },
  {
   "cell_type": "code",
   "execution_count": 2,
   "metadata": {},
   "outputs": [],
   "source": [
    "execute_query(\n",
    "\"\"\"\n",
    "  CREATE (shakespeare:Author {firstname:'William', lastname:'Shakespeare'}), \n",
    "       (juliusCaesar:Play {title:'Julius Caesar'}), \n",
    "       (shakespeare)-[:WROTE_PLAY {year:1599}]->(juliusCaesar), \n",
    "       (theTempest:Play {title:'The Tempest'}), \n",
    "       (shakespeare)-[:WROTE_PLAY {year:1610}]->(theTempest), \n",
    "       (rsc:Company {name:'RSC'}),\n",
    "       (production1:Production {name:'Julius Caesar'}),\n",
    "       (rsc)-[:PRODUCED]->(production1),\n",
    "       (production1)-[:PRODUCTION_OF]->(juliusCaesar),\n",
    "       (performance1:Performance {date:20120729}),\n",
    "       (performance1)-[:PERFORMANCE_OF]->(production1),\n",
    "       (production2:Production {name:'The Tempest'}),\n",
    "       (rsc)-[:PRODUCED]->(production2),\n",
    "       (production2)-[:PRODUCTION_OF]->(theTempest),\n",
    "       (performance2:Performance {date:20061121}),\n",
    "       (performance2)-[:PERFORMANCE_OF]->(production2),\n",
    "       (performance3:Performance {date:20120730}),\n",
    "       (performance3)-[:PERFORMANCE_OF]->(production1),\n",
    "       (billy:User {name:'Billy'}),\n",
    "       (review:Review {rating:5, review:'This was awesome!'}),\n",
    "       (billy)-[:WROTE_REVIEW]->(review),\n",
    "       (review)-[:RATED]->(performance1),\n",
    "       (theatreRoyal:Venue {name:'Theatre Royal'}),\n",
    "       (performance1)-[:VENUE]->(theatreRoyal),\n",
    "       (performance2)-[:VENUE]->(theatreRoyal),\n",
    "       (performance3)-[:VENUE]->(theatreRoyal),\n",
    "       (greyStreet:Street {name:'Grey Street'}),\n",
    "       (shakespeare)-[:BORN_IN]->(greyStreet);\n",
    "\"\"\")\n"
   ]
  },
  {
   "cell_type": "markdown",
   "metadata": {},
   "source": [
    "### 返却結果を辞書型で返却します"
   ]
  },
  {
   "cell_type": "code",
   "execution_count": 8,
   "metadata": {},
   "outputs": [
    {
     "name": "stdout",
     "output_type": "stream",
     "text": [
      "{'s.name': 'Grey Street'}\n",
      "{'r.review': 'This was awesome!'}\n",
      "{'r.review': 'This was awesome!', 'r.rating': 5}\n",
      "{'pr': {'name': 'Julius Caesar'}}\n"
     ]
    }
   ],
   "source": [
    "\n",
    "# このクエリは、William Shakespeareが生まれた場所を返します。\n",
    "result = execute_query_and_return_string(\n",
    "\"\"\"\n",
    "MATCH (a:Author {firstname:'William', lastname:'Shakespeare'})-[:BORN_IN]->(s:Street)\n",
    "RETURN s.name\n",
    "\"\"\"\n",
    ")\n",
    "print(result)\n",
    "\n",
    "# このクエリは、Billyが書いたレビューを返します。\n",
    "result = execute_query_and_return_string(\n",
    "\"\"\"\n",
    "MATCH (u:User {name:'Billy'})-[:WROTE_REVIEW]->(r:Review)\n",
    "RETURN r.review\n",
    "\"\"\"\n",
    ")\n",
    "print(result)\n",
    "\n",
    "# このクエリは、Billyが書いたレビューと評価を返します。\n",
    "result = execute_query_and_return_string(\n",
    "\"\"\"\n",
    "MATCH (u:User {name:'Billy'})-[:WROTE_REVIEW]->(r:Review)-[:RATED]->(p:Performance)\n",
    "RETURN r.review, r.rating\n",
    "\"\"\"\n",
    ")\n",
    "print(result)\n",
    "\n",
    "\n",
    "# このクエリは、Theatre Royalで行われたパフォーマンスの元となった劇を返します。\n",
    "result = execute_query_and_return_string(\n",
    "\"\"\"\n",
    "MATCH (v:Venue {name:'Theatre Royal'})<-[:VENUE]-(p:Performance)-[:PERFORMANCE_OF]->(pr:Production)\n",
    "RETURN pr\n",
    "\"\"\"\n",
    ")\n",
    "print(result)"
   ]
  },
  {
   "cell_type": "markdown",
   "metadata": {},
   "source": [
    "### お片付け"
   ]
  },
  {
   "cell_type": "code",
   "execution_count": 2,
   "metadata": {},
   "outputs": [],
   "source": [
    "clear_database()"
   ]
  }
 ],
 "metadata": {
  "kernelspec": {
   "display_name": "Python 3 (ipykernel)",
   "language": "python",
   "name": "python3"
  },
  "language_info": {
   "codemirror_mode": {
    "name": "ipython",
    "version": 3
   },
   "file_extension": ".py",
   "mimetype": "text/x-python",
   "name": "python",
   "nbconvert_exporter": "python",
   "pygments_lexer": "ipython3",
   "version": "3.10.5"
  }
 },
 "nbformat": 4,
 "nbformat_minor": 2
}
